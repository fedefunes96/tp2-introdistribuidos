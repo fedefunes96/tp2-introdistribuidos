{
 "cells": [
  {
   "cell_type": "code",
   "execution_count": 1,
   "metadata": {},
   "outputs": [],
   "source": [
    "import pybgpstream\n",
    "import pprint\n",
    "import numpy as np"
   ]
  },
  {
   "cell_type": "code",
   "execution_count": 2,
   "metadata": {},
   "outputs": [],
   "source": [
    "time_init = \"2012-03-01\"\n",
    "time_end = \"2012-03-01 00:08\""
   ]
  },
  {
   "cell_type": "code",
   "execution_count": 12,
   "metadata": {
    "scrolled": true
   },
   "outputs": [],
   "source": [
    "#collector = 'route-views.saopaulo'\n",
    "\n",
    "#target_as = 18353#10318\n",
    "\n",
    "def bgpstream(time_init, time_end, collector, target_as, ASPATHS, PREFIXES):\n",
    "    stream = pybgpstream.BGPStream (\n",
    "        from_time = time_init,\n",
    "        until_time = time_end,\n",
    "        filter = \"type ribs and collector %s and path %s\" % (\n",
    "            collector,\n",
    "            target_as\n",
    "        )\n",
    "    )\n",
    "\n",
    "    #ASPATHS= set()\n",
    "    #PREFIXES= set()\n",
    "\n",
    "    for elem in stream:\n",
    "        if int(elem.fields[\"as-path\"].split(' ')[ -1]) == target_as:\n",
    "            ASPATHS.add(tuple(np.array(elem.fields[\"as-path\"].split(' ')).astype(int).tolist()))\n",
    "            PREFIXES.add(elem.fields[\"prefix\"])       \n",
    "            # pprint.pprint(elem.fields)"
   ]
  },
  {
   "cell_type": "code",
   "execution_count": 40,
   "metadata": {
    "scrolled": true
   },
   "outputs": [
    {
     "name": "stdout",
     "output_type": "stream",
     "text": [
      "(262757, 16735, 3549, 10481, 10318)\n",
      "(16735, 12956, 22927, 10481, 10318)\n",
      "(16735, 3549, 10481, 10318)\n",
      "(262757, 16735, 12956, 22927, 10481, 10318)\n",
      "(28138, 16735, 12956, 22927, 10481, 10318)\n",
      "(28289, 53131, 10429, 12956, 22927, 10481, 10318)\n",
      "(28289, 53131, 16735, 3549, 10481, 10318)\n",
      "(28138, 16735, 3549, 10481, 10318)\n",
      "Caminos observados: \n",
      "8\n"
     ]
    }
   ],
   "source": [
    "ASPATHS = set()\n",
    "PREFIXES = set()\n",
    "collector = 'route-views.saopaulo'\n",
    "\n",
    "target_as = 18353\n",
    "target_isp = 10318\n",
    "\n",
    "bgpstream(time_init, time_end, collector, target_isp, ASPATHS, PREFIXES)\n",
    "\n",
    "i = 0\n",
    "ASPATHS_NODUP = set()\n",
    "\n",
    "for path in ASPATHS:\n",
    "    asns = []\n",
    "    for n in path:\n",
    "        if n in asns:\n",
    "            continue\n",
    "        asns.append(n)\n",
    "    \n",
    "    ASPATHS_NODUP.add(tuple(asns))\n",
    "\n",
    "for path in ASPATHS_NODUP:\n",
    "    print(path)\n",
    "    i += 1\n",
    "\n",
    "print(\"Caminos observados: \")\n",
    "print(i)"
   ]
  },
  {
   "cell_type": "code",
   "execution_count": 41,
   "metadata": {},
   "outputs": [],
   "source": [
    "#Get providers\n",
    "\n",
    "providers = set()\n",
    "\n",
    "for path in ASPATHS_NODUP:\n",
    "    providers.add(path[-2])"
   ]
  },
  {
   "cell_type": "code",
   "execution_count": 42,
   "metadata": {},
   "outputs": [
    {
     "data": {
      "text/plain": [
       "{10481}"
      ]
     },
     "execution_count": 42,
     "metadata": {},
     "output_type": "execute_result"
    }
   ],
   "source": [
    "providers"
   ]
  },
  {
   "cell_type": "code",
   "execution_count": 43,
   "metadata": {},
   "outputs": [
    {
     "name": "stdout",
     "output_type": "stream",
     "text": [
      "200.126.224.0/19\n",
      "190.18.96.0/19\n",
      "201.235.224.0/19\n",
      "201.235.128.0/19\n",
      "190.16.32.0/19\n",
      "201.231.96.0/19\n",
      "190.244.96.0/19\n",
      "186.137.128.0/19\n",
      "190.246.160.0/19\n",
      "186.136.128.0/19\n",
      "190.247.128.0/19\n",
      "190.244.32.0/19\n",
      "24.232.32.0/19\n",
      "190.16.224.0/19\n",
      "190.244.224.0/19\n",
      "200.126.128.0/19\n",
      "190.17.224.0/19\n",
      "190.245.160.0/19\n",
      "201.231.192.0/19\n",
      "200.114.192.0/19\n",
      "190.18.64.0/19\n",
      "190.246.224.0/19\n",
      "190.18.32.0/19\n",
      "190.17.64.0/19\n",
      "181.164.32.0/19\n",
      "190.245.224.0/19\n",
      "190.246.128.0/19\n",
      "181.164.96.0/19\n",
      "190.18.224.0/19\n",
      "24.232.160.0/19\n",
      "190.16.144.0/20\n",
      "200.49.128.0/19\n",
      "200.126.192.0/19\n",
      "186.137.96.0/19\n",
      "24.232.128.0/19\n",
      "190.244.160.0/19\n",
      "201.231.128.0/19\n",
      "200.114.160.0/19\n",
      "186.136.32.0/19\n",
      "190.17.160.0/19\n",
      "190.17.96.0/19\n",
      "186.137.64.0/19\n",
      "201.231.160.0/19\n",
      "186.136.64.0/19\n",
      "190.16.0.0/14\n",
      "190.16.192.0/19\n",
      "181.28.0.0/14\n",
      "190.246.0.0/19\n",
      "186.136.0.0/19\n",
      "200.126.160.0/19\n",
      "181.164.192.0/19\n",
      "186.136.96.0/19\n",
      "190.17.128.0/19\n",
      "24.232.192.0/19\n",
      "190.16.128.0/19\n",
      "190.19.160.0/19\n",
      "190.245.192.0/19\n",
      "181.164.64.0/19\n",
      "24.232.64.0/19\n",
      "190.247.64.0/19\n",
      "190.19.96.0/19\n",
      "200.49.128.0/20\n",
      "201.235.96.0/19\n",
      "190.18.160.0/19\n",
      "190.17.192.0/19\n",
      "190.19.32.0/19\n",
      "201.235.64.0/19\n",
      "201.231.32.0/19\n",
      "201.235.192.0/19\n",
      "190.18.128.0/19\n",
      "190.247.192.0/19\n",
      "190.245.32.0/19\n",
      "186.137.160.0/19\n",
      "190.17.32.0/19\n",
      "190.16.96.0/19\n",
      "186.136.0.0/15\n",
      "190.245.96.0/19\n",
      "190.18.0.0/19\n",
      "190.16.64.0/19\n",
      "200.89.160.0/19\n",
      "190.247.0.0/19\n",
      "186.136.0.0/14\n",
      "200.49.144.0/20\n",
      "201.235.0.0/16\n",
      "186.136.224.0/19\n",
      "190.245.0.0/19\n",
      "190.244.128.0/19\n",
      "200.114.128.0/17\n",
      "200.114.128.0/19\n",
      "190.246.96.0/19\n",
      "181.164.224.0/19\n",
      "190.16.0.0/19\n",
      "190.247.224.0/19\n",
      "190.247.32.0/19\n",
      "181.164.0.0/14\n",
      "24.232.96.0/19\n",
      "201.235.0.0/19\n",
      "186.136.160.0/19\n",
      "186.137.192.0/19\n",
      "190.19.0.0/19\n",
      "190.247.160.0/19\n",
      "201.235.32.0/19\n",
      "201.231.0.0/16\n",
      "190.244.0.0/19\n",
      "200.89.128.0/19\n",
      "186.137.0.0/19\n",
      "200.114.224.0/19\n",
      "190.246.32.0/19\n",
      "24.232.0.0/19\n",
      "201.235.160.0/19\n",
      "181.164.0.0/19\n",
      "190.18.192.0/19\n",
      "190.244.64.0/19\n",
      "186.137.224.0/19\n",
      "190.244.192.0/19\n",
      "24.232.224.0/19\n",
      "190.246.192.0/19\n",
      "24.232.0.0/16\n",
      "190.17.0.0/19\n",
      "190.19.224.0/19\n",
      "181.164.0.0/15\n",
      "190.19.64.0/19\n",
      "190.244.0.0/14\n",
      "200.126.128.0/17\n",
      "190.19.192.0/19\n",
      "181.164.160.0/19\n",
      "190.246.64.0/19\n",
      "190.247.96.0/19\n",
      "186.137.32.0/19\n",
      "190.245.64.0/19\n",
      "181.164.128.0/19\n",
      "190.16.160.0/19\n",
      "190.245.128.0/19\n",
      "201.231.0.0/19\n",
      "200.89.128.0/18\n",
      "186.136.192.0/19\n",
      "190.19.128.0/19\n",
      "201.231.64.0/19\n",
      "201.231.224.0/19\n",
      "Cantidad de prefijos:  139\n"
     ]
    }
   ],
   "source": [
    "#Get prefixes\n",
    "i = 0\n",
    "\n",
    "for prefix in PREFIXES:\n",
    "    print(prefix)\n",
    "    i += 1\n",
    "    \n",
    "print(\"Cantidad de prefijos: \", i)"
   ]
  },
  {
   "cell_type": "markdown",
   "metadata": {},
   "source": [
    "Full RIB"
   ]
  },
  {
   "cell_type": "code",
   "execution_count": 3,
   "metadata": {},
   "outputs": [],
   "source": [
    "ASPATHS = set()\n",
    "PREFIXES = set()\n",
    "\n",
    "RIB = []\n",
    "\n",
    "collector = 'route-views.saopaulo'\n",
    "\n",
    "time_init = \"2015-02-12\"\n",
    "time_end = \"2015-02-12 00:05\"\n",
    "\n",
    "stream = pybgpstream.BGPStream (\n",
    "    from_time = time_init,\n",
    "    until_time = time_end,\n",
    "    filter = \"type ribs and collector %s\" % (\n",
    "        collector\n",
    "    )\n",
    ")\n",
    "\n",
    "for elem in stream:\n",
    "    ASPATHS.add(tuple(np.array(elem.fields[\"as-path\"].split(' ')).tolist()))\n",
    "    PREFIXES.add(elem.fields[\"prefix\"])    \n",
    "    RIB.append([tuple(np.array(elem.fields[\"as-path\"].split(' ')).tolist()), elem.fields[\"prefix\"]])"
   ]
  },
  {
   "cell_type": "code",
   "execution_count": null,
   "metadata": {},
   "outputs": [],
   "source": []
  }
 ],
 "metadata": {
  "kernelspec": {
   "display_name": "Python 3",
   "language": "python",
   "name": "python3"
  },
  "language_info": {
   "codemirror_mode": {
    "name": "ipython",
    "version": 3
   },
   "file_extension": ".py",
   "mimetype": "text/x-python",
   "name": "python",
   "nbconvert_exporter": "python",
   "pygments_lexer": "ipython3",
   "version": "3.5.2"
  }
 },
 "nbformat": 4,
 "nbformat_minor": 2
}
