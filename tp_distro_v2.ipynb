{
 "cells": [
  {
   "cell_type": "code",
   "execution_count": 46,
   "metadata": {},
   "outputs": [],
   "source": [
    "import pybgpstream\n",
    "import pprint\n",
    "import numpy as np"
   ]
  },
  {
   "cell_type": "code",
   "execution_count": 16,
   "metadata": {
    "scrolled": true
   },
   "outputs": [],
   "source": [
    "#collector = 'route-views.saopaulo'\n",
    "\n",
    "#target_as = 18353#10318\n",
    "\n",
    "def bgpstream(time_init, time_end, collector, target_as, ASPATHS, PREFIXES):\n",
    "    stream = pybgpstream.BGPStream (\n",
    "        from_time = time_init,\n",
    "        until_time = time_end,\n",
    "        filter = \"type ribs and collector %s and path %s\" % (\n",
    "            collector,\n",
    "            target_as\n",
    "        )\n",
    "    )\n",
    "\n",
    "    #ASPATHS= set()\n",
    "    #PREFIXES= set()\n",
    "\n",
    "    for elem in stream:\n",
    "        if int(elem.fields[\"as-path\"].split(' ')[ -1]) == target_as:\n",
    "            path = elem.fields[\"as-path\"].split(' ')\n",
    "            path_noprepend = []\n",
    "            for i in range(0, len(path)):\n",
    "                if i-1 > 0 and path[i] == path[i-1]:\n",
    "                    continue\n",
    "                path_noprepend.append(path[i])\n",
    "                \n",
    "            ASPATHS.add(tuple(path_noprepend))\n",
    "            #ASPATHS.add(tuple(np.array(elem.fields[\"as-path\"].split(' ')).astype(int).tolist()))\n",
    "            PREFIXES.add(elem.fields[\"prefix\"])       \n",
    "            # pprint.pprint(elem.fields)"
   ]
  },
  {
   "cell_type": "code",
   "execution_count": 22,
   "metadata": {},
   "outputs": [],
   "source": [
    "ASPATHS = set()\n",
    "PREFIXES = set()\n",
    "collector = 'route-views.saopaulo'\n",
    "\n",
    "target_as = 18353\n",
    "target_isp = 10318\n",
    "\n",
    "time_init = \"2012-03-01\"\n",
    "time_end = \"2012-03-01 00:08\"\n",
    "\n",
    "bgpstream(time_init, time_end, collector, target_isp, ASPATHS, PREFIXES)"
   ]
  },
  {
   "cell_type": "code",
   "execution_count": 23,
   "metadata": {},
   "outputs": [
    {
     "name": "stdout",
     "output_type": "stream",
     "text": [
      "('28138', '16735', '12956', '22927', '10481', '10318')\n",
      "('28289', '53131', '10429', '12956', '22927', '10481', '10318')\n",
      "('262757', '16735', '12956', '22927', '10481', '10318')\n",
      "('16735', '3549', '10481', '10318')\n",
      "('28289', '53131', '16735', '3549', '10481', '10318')\n",
      "('262757', '16735', '3549', '10481', '10318')\n",
      "('28138', '16735', '3549', '10481', '10318')\n",
      "('16735', '12956', '22927', '10481', '10318')\n",
      "Caminos observados: \n",
      "8\n"
     ]
    }
   ],
   "source": [
    "i = 0\n",
    "for elem in ASPATHS:\n",
    "    print(elem)\n",
    "    i += 1\n",
    "print(\"Caminos observados: \")\n",
    "print(i)"
   ]
  },
  {
   "cell_type": "code",
   "execution_count": 24,
   "metadata": {},
   "outputs": [],
   "source": [
    "#Get providers\n",
    "\n",
    "providers = set()\n",
    "\n",
    "for path in ASPATHS:\n",
    "    providers.add(path[-2])"
   ]
  },
  {
   "cell_type": "code",
   "execution_count": 25,
   "metadata": {},
   "outputs": [
    {
     "data": {
      "text/plain": [
       "{'10481'}"
      ]
     },
     "execution_count": 25,
     "metadata": {},
     "output_type": "execute_result"
    }
   ],
   "source": [
    "providers"
   ]
  },
  {
   "cell_type": "code",
   "execution_count": 26,
   "metadata": {},
   "outputs": [
    {
     "name": "stdout",
     "output_type": "stream",
     "text": [
      "201.235.0.0/19\n",
      "181.164.32.0/19\n",
      "190.244.128.0/19\n",
      "186.136.96.0/19\n",
      "186.137.192.0/19\n",
      "200.114.128.0/19\n",
      "201.235.128.0/19\n",
      "190.19.224.0/19\n",
      "24.232.96.0/19\n",
      "200.49.128.0/19\n",
      "200.114.160.0/19\n",
      "181.164.128.0/19\n",
      "190.19.64.0/19\n",
      "190.17.160.0/19\n",
      "186.136.0.0/19\n",
      "190.245.192.0/19\n",
      "190.244.32.0/19\n",
      "190.244.192.0/19\n",
      "201.235.32.0/19\n",
      "190.17.32.0/19\n",
      "190.16.96.0/19\n",
      "24.232.192.0/19\n",
      "186.137.0.0/19\n",
      "200.49.128.0/20\n",
      "186.136.64.0/19\n",
      "190.245.64.0/19\n",
      "181.164.0.0/19\n",
      "190.247.96.0/19\n",
      "201.235.224.0/19\n",
      "190.16.192.0/19\n",
      "200.114.224.0/19\n",
      "201.231.0.0/19\n",
      "186.136.0.0/15\n",
      "181.164.96.0/19\n",
      "190.246.224.0/19\n",
      "190.17.64.0/19\n",
      "190.19.96.0/19\n",
      "190.244.0.0/14\n",
      "200.114.128.0/17\n",
      "190.18.32.0/19\n",
      "190.18.224.0/19\n",
      "190.247.192.0/19\n",
      "190.18.64.0/19\n",
      "201.235.64.0/19\n",
      "186.136.0.0/14\n",
      "190.246.0.0/19\n",
      "200.126.224.0/19\n",
      "190.17.192.0/19\n",
      "201.231.64.0/19\n",
      "190.17.0.0/19\n",
      "24.232.0.0/16\n",
      "200.89.128.0/19\n",
      "190.16.0.0/19\n",
      "190.16.224.0/19\n",
      "190.19.0.0/19\n",
      "24.232.160.0/19\n",
      "190.247.0.0/19\n",
      "190.247.224.0/19\n",
      "201.231.192.0/19\n",
      "190.247.32.0/19\n",
      "201.231.128.0/19\n",
      "201.235.160.0/19\n",
      "190.247.128.0/19\n",
      "181.164.224.0/19\n",
      "190.244.0.0/19\n",
      "200.114.192.0/19\n",
      "190.18.0.0/19\n",
      "200.126.160.0/19\n",
      "181.164.0.0/15\n",
      "186.137.160.0/19\n",
      "190.18.192.0/19\n",
      "190.18.96.0/19\n",
      "190.247.64.0/19\n",
      "190.246.128.0/19\n",
      "201.235.0.0/16\n",
      "190.18.128.0/19\n",
      "190.19.160.0/19\n",
      "190.16.64.0/19\n",
      "190.16.32.0/19\n",
      "24.232.128.0/19\n",
      "190.245.128.0/19\n",
      "186.137.224.0/19\n",
      "181.164.64.0/19\n",
      "190.244.64.0/19\n",
      "190.17.96.0/19\n",
      "190.245.0.0/19\n",
      "190.19.192.0/19\n",
      "186.136.160.0/19\n",
      "200.49.144.0/20\n",
      "200.126.128.0/19\n",
      "201.231.160.0/19\n",
      "190.244.96.0/19\n",
      "190.246.192.0/19\n",
      "24.232.64.0/19\n",
      "181.28.0.0/14\n",
      "186.137.64.0/19\n",
      "190.244.224.0/19\n",
      "186.136.192.0/19\n",
      "190.247.160.0/19\n",
      "201.231.0.0/16\n",
      "181.164.0.0/14\n",
      "190.245.32.0/19\n",
      "186.137.96.0/19\n",
      "190.245.96.0/19\n",
      "190.246.32.0/19\n",
      "186.137.32.0/19\n",
      "190.16.128.0/19\n",
      "186.137.128.0/19\n",
      "190.19.32.0/19\n",
      "200.89.160.0/19\n",
      "190.245.224.0/19\n",
      "200.89.128.0/18\n",
      "190.16.0.0/14\n",
      "201.235.192.0/19\n",
      "200.126.192.0/19\n",
      "190.16.160.0/19\n",
      "201.231.224.0/19\n",
      "24.232.224.0/19\n",
      "190.19.128.0/19\n",
      "190.246.64.0/19\n",
      "201.231.32.0/19\n",
      "181.164.192.0/19\n",
      "190.17.224.0/19\n",
      "201.231.96.0/19\n",
      "186.136.224.0/19\n",
      "190.246.96.0/19\n",
      "200.126.128.0/17\n",
      "190.17.128.0/19\n",
      "190.18.160.0/19\n",
      "190.246.160.0/19\n",
      "186.136.32.0/19\n",
      "201.235.96.0/19\n",
      "24.232.32.0/19\n",
      "181.164.160.0/19\n",
      "24.232.0.0/19\n",
      "190.245.160.0/19\n",
      "190.16.144.0/20\n",
      "186.136.128.0/19\n",
      "190.244.160.0/19\n",
      "Cantidad de prefijos:  139\n"
     ]
    }
   ],
   "source": [
    "#Get prefixes\n",
    "i = 0\n",
    "\n",
    "for prefix in PREFIXES:\n",
    "    print(prefix)\n",
    "    i += 1\n",
    "    \n",
    "print(\"Cantidad de prefijos: \", i)"
   ]
  },
  {
   "cell_type": "markdown",
   "metadata": {},
   "source": [
    "Full RIB"
   ]
  },
  {
   "cell_type": "code",
   "execution_count": 47,
   "metadata": {},
   "outputs": [],
   "source": [
    "RIB = set()\n",
    "\n",
    "collector = 'route-views.saopaulo'\n",
    "\n",
    "time_init = \"2015-02-12 00:00:00\"\n",
    "time_end = \"2015-02-12 00:00:00\"\n",
    "\n",
    "stream = pybgpstream.BGPStream (\n",
    "    from_time = time_init,\n",
    "    until_time = time_end,\n",
    "    record_type=\"ribs\",\n",
    "    filter = \"collector %s\" % (\n",
    "        collector\n",
    "    )\n",
    ")\n",
    "\n",
    "for elem in stream:\n",
    "    path = elem.fields[\"as-path\"].split(' ')\n",
    "    path_noprepend = []\n",
    "    for i in range(0, len(path)):\n",
    "        if i-1 > 0 and path[i] == path[i-1]:\n",
    "            continue\n",
    "        path_noprepend.append(path[i])\n",
    "                        \n",
    "    RIB.add((tuple(path_noprepend), elem.fields[\"prefix\"]))"
   ]
  },
  {
   "cell_type": "code",
   "execution_count": 48,
   "metadata": {},
   "outputs": [
    {
     "data": {
      "text/plain": [
       "380346"
      ]
     },
     "execution_count": 48,
     "metadata": {},
     "output_type": "execute_result"
    }
   ],
   "source": [
    "len(RIB)"
   ]
  },
  {
   "cell_type": "code",
   "execution_count": 14,
   "metadata": {},
   "outputs": [
    {
     "data": {
      "text/plain": [
       "(('28329', '2914', '1299', '53755'), '23.226.64.0/20')"
      ]
     },
     "execution_count": 14,
     "metadata": {},
     "output_type": "execute_result"
    }
   ],
   "source": [
    "elem = RIB.pop()\n",
    "elem"
   ]
  },
  {
   "cell_type": "code",
   "execution_count": 49,
   "metadata": {},
   "outputs": [],
   "source": [
    "prefixes = {}\n",
    "\n",
    "for elem in RIB:\n",
    "    origin = elem[0][-1]\n",
    "    if origin not in prefixes:\n",
    "        prefixes[origin] = set()\n",
    "    prefixes[origin].add(elem[1])"
   ]
  },
  {
   "cell_type": "code",
   "execution_count": 50,
   "metadata": {},
   "outputs": [
    {
     "data": {
      "text/plain": [
       "3575"
      ]
     },
     "execution_count": 50,
     "metadata": {},
     "output_type": "execute_result"
    }
   ],
   "source": [
    "#Number of origins\n",
    "len(prefixes)"
   ]
  },
  {
   "cell_type": "code",
   "execution_count": 51,
   "metadata": {},
   "outputs": [
    {
     "name": "stdout",
     "output_type": "stream",
     "text": [
      "Number of prefixes:  17609\n"
     ]
    }
   ],
   "source": [
    "#Number of prefixes\n",
    "i = 0\n",
    "for origin in prefixes:\n",
    "    i += len(origin)\n",
    "\n",
    "print(\"Number of prefixes: \", i)"
   ]
  },
  {
   "cell_type": "code",
   "execution_count": 52,
   "metadata": {},
   "outputs": [],
   "source": [
    "#Transform set into list\n",
    "for origin in prefixes:\n",
    "    prefixes[origin] = list(prefixes[origin])"
   ]
  },
  {
   "cell_type": "code",
   "execution_count": null,
   "metadata": {},
   "outputs": [],
   "source": [
    "def same_possible_network(ip1_p, ip2_p):\n",
    "    if not '/' in ip1_p or not '/' in ip2_p:\n",
    "        return False\n",
    "    \n",
    "    ip1, prefix1 = ip1_p.split('/')\n",
    "    ip2, prefix2 = ip2_p.split('/')\n",
    "    \n",
    "    num_prefix1 = int(prefix1)\n",
    "    num_prefix2 = int(prefix2)\n",
    "    \n",
    "    #If they have the same prefix, discount 1 to both to check\n",
    "    #if they are in the same network, so that i can aggregate them\n",
    "    if (num_prefix1 == num_prefix2):\n",
    "        num_prefix1 -= 1\n",
    "        num_prefix2 -= 1\n",
    "    \n",
    "    bits_for_contained = min(num_prefix1, num_prefix2)\n",
    "    \n",
    "    numbers1 = list(map(int, ip1.split('.')))\n",
    "    numbers2 = list(map(int, ip2.split('.')))\n",
    "    \n",
    "    size = int(bits_for_contained / 8)\n",
    "    last_bits = bits_for_contained % 8\n",
    "\n",
    "    status = True\n",
    "    \n",
    "    for i in range(0, size):\n",
    "        if (numbers1[i] != numbers2[i]):\n",
    "            status = False\n",
    "            break;\n",
    "\n",
    "    if (last_bits and (numbers1[size] & (256-pow(2, (8-last_bits)))) != (numbers2[size] & (256-pow(2, (8-last_bits))))):\n",
    "        status = False\n",
    "\n",
    "    return status\n",
    "    \n",
    "            \n",
    "def perform_agg(ip1_p, ip2_p):\n",
    "    ip1, prefix1 = ip1_p.split('/')\n",
    "    ip2, prefix2 = ip2_p.split('/')\n",
    "    \n",
    "    #If they have the same prefix, i have to aggregate\n",
    "    #and discount 1 to the prefix starting which ip is \"less\", example:\n",
    "    # 40.165.32.0/20 and 40.165.48.0/20\n",
    "    # that is 40.165.32.0/19\n",
    "    if (int(prefix1) == int(prefix2)):\n",
    "        size = int((32-int(prefix1)-1) / 8)\n",
    "        \n",
    "        numbers1 = list(map(int, ip1.split('.')))\n",
    "        numbers2 = list(map(int, ip2.split('.')))\n",
    "        \n",
    "        if (numbers1[size] < numbers2[size]):\n",
    "            return ip1 + '/' + str(int(prefix1)-1)\n",
    "        \n",
    "        return ip2 + '/' + str(int(prefix1)-1)\n",
    "    \n",
    "    #If they have different prefix, return the one with the minimum prefix\n",
    "    \n",
    "    if (int(prefix1) < int(prefix2)):\n",
    "        return ip1\n",
    "    \n",
    "    return ip2\n",
    "            \n",
    "#Continous and aggregates if possible\n",
    "def contiguous_and_aggregates(ip, prefixes):\n",
    "    for ip2 in prefixes:\n",
    "        #Skip same ip\n",
    "        if ip == ip2:\n",
    "            continue\n",
    "        \n",
    "        if (not same_possible_network(ip, ip2)):\n",
    "            continue\n",
    "            \n",
    "        new_ip = perform_agg(ip, ip2)\n",
    "        prefixes.remove(ip)\n",
    "        prefixes.remove(ip2)\n",
    "        prefixes.append(new_ip)\n",
    "        return True\n",
    "    \n",
    "    return False\n",
    "\n",
    "# Maximum aggregation    \n",
    "def perform_max_agg(prefixes):\n",
    "    #Try ips until some aggregation is done\n",
    "    for ip in prefixes:\n",
    "        if (contiguous_and_aggregates(ip, prefixes)):\n",
    "            perform_max_agg(prefixes)\n",
    "            break;\n",
    "            \n",
    "for origin in prefixes:\n",
    "    perform_max_agg(prefixes[origin])"
   ]
  },
  {
   "cell_type": "code",
   "execution_count": 75,
   "metadata": {},
   "outputs": [
    {
     "name": "stdout",
     "output_type": "stream",
     "text": [
      "Number of prefixes:  17609\n"
     ]
    }
   ],
   "source": [
    "#Number of prefixes\n",
    "i = 0\n",
    "for origin in prefixes:\n",
    "    i += len(origin)\n",
    "\n",
    "print(\"Number of prefixes: \", i)"
   ]
  },
  {
   "cell_type": "code",
   "execution_count": null,
   "metadata": {},
   "outputs": [],
   "source": []
  }
 ],
 "metadata": {
  "kernelspec": {
   "display_name": "Python 3",
   "language": "python",
   "name": "python3"
  },
  "language_info": {
   "codemirror_mode": {
    "name": "ipython",
    "version": 3
   },
   "file_extension": ".py",
   "mimetype": "text/x-python",
   "name": "python",
   "nbconvert_exporter": "python",
   "pygments_lexer": "ipython3",
   "version": "3.5.2"
  }
 },
 "nbformat": 4,
 "nbformat_minor": 2
}
